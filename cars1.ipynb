{
  "cells": [
    {
      "cell_type": "code",
      "source": [
        "import warnings\n",
        "\n",
        "warnings.simplefilter(\"ignore\")"
      ],
      "outputs": [],
      "execution_count": 1,
      "metadata": {
        "gather": {
          "logged": 1671842408693
        }
      },
      "id": "f865dc99"
    },
    {
      "cell_type": "code",
      "source": [
        "#%pip install -r requirements.txt"
      ],
      "outputs": [
        {
          "output_type": "stream",
          "name": "stdout",
          "text": "Requirement already satisfied: mlflow in /anaconda/envs/azureml_py310_sdkv2/lib/python3.10/site-packages (from -r requirements.txt (line 1)) (1.30.0)\nRequirement already satisfied: azureml-mlflow in /anaconda/envs/azureml_py310_sdkv2/lib/python3.10/site-packages (from -r requirements.txt (line 2)) (1.47.0)\nCollecting scikit-learn\n  Downloading scikit_learn-1.2.0-cp310-cp310-manylinux_2_17_x86_64.manylinux2014_x86_64.whl (9.5 MB)\n\u001b[2K     \u001b[90m━━━━━━━━━━━━━━━━━━━━━━━━━━━━━━━━━━━━━━━━\u001b[0m \u001b[32m9.5/9.5 MB\u001b[0m \u001b[31m81.8 MB/s\u001b[0m eta \u001b[36m0:00:00\u001b[0m:00:01\u001b[0m00:01\u001b[0m\n\u001b[?25hRequirement already satisfied: pandas in /anaconda/envs/azureml_py310_sdkv2/lib/python3.10/site-packages (from -r requirements.txt (line 4)) (1.5.1)\nRequirement already satisfied: numpy in /anaconda/envs/azureml_py310_sdkv2/lib/python3.10/site-packages (from -r requirements.txt (line 5)) (1.23.4)\nRequirement already satisfied: matplotlib in /anaconda/envs/azureml_py310_sdkv2/lib/python3.10/site-packages (from -r requirements.txt (line 6)) (3.6.2)\nRequirement already satisfied: entrypoints<1 in /anaconda/envs/azureml_py310_sdkv2/lib/python3.10/site-packages (from mlflow->-r requirements.txt (line 1)) (0.4)\nRequirement already satisfied: pytz<2023 in /anaconda/envs/azureml_py310_sdkv2/lib/python3.10/site-packages (from mlflow->-r requirements.txt (line 1)) (2022.6)\nRequirement already satisfied: docker<7,>=4.0.0 in /anaconda/envs/azureml_py310_sdkv2/lib/python3.10/site-packages (from mlflow->-r requirements.txt (line 1)) (6.0.1)\nRequirement already satisfied: requests<3,>=2.17.3 in /anaconda/envs/azureml_py310_sdkv2/lib/python3.10/site-packages (from mlflow->-r requirements.txt (line 1)) (2.28.1)\nRequirement already satisfied: databricks-cli<1,>=0.8.7 in /anaconda/envs/azureml_py310_sdkv2/lib/python3.10/site-packages (from mlflow->-r requirements.txt (line 1)) (0.17.3)\nRequirement already satisfied: pyyaml<7,>=5.1 in /anaconda/envs/azureml_py310_sdkv2/lib/python3.10/site-packages (from mlflow->-r requirements.txt (line 1)) (6.0)\nRequirement already satisfied: scipy<2 in /anaconda/envs/azureml_py310_sdkv2/lib/python3.10/site-packages (from mlflow->-r requirements.txt (line 1)) (1.9.3)\nRequirement already satisfied: gunicorn<21 in /anaconda/envs/azureml_py310_sdkv2/lib/python3.10/site-packages (from mlflow->-r requirements.txt (line 1)) (20.1.0)\nRequirement already satisfied: sqlalchemy<2,>=1.4.0 in /anaconda/envs/azureml_py310_sdkv2/lib/python3.10/site-packages (from mlflow->-r requirements.txt (line 1)) (1.4.43)\nRequirement already satisfied: click<9,>=7.0 in /anaconda/envs/azureml_py310_sdkv2/lib/python3.10/site-packages (from mlflow->-r requirements.txt (line 1)) (8.0.4)\nRequirement already satisfied: cloudpickle<3 in /anaconda/envs/azureml_py310_sdkv2/lib/python3.10/site-packages (from mlflow->-r requirements.txt (line 1)) (2.2.0)\nRequirement already satisfied: Flask<3 in /anaconda/envs/azureml_py310_sdkv2/lib/python3.10/site-packages (from mlflow->-r requirements.txt (line 1)) (2.2.2)\nRequirement already satisfied: packaging<22 in /anaconda/envs/azureml_py310_sdkv2/lib/python3.10/site-packages (from mlflow->-r requirements.txt (line 1)) (21.3)\nRequirement already satisfied: gitpython<4,>=2.1.0 in /anaconda/envs/azureml_py310_sdkv2/lib/python3.10/site-packages (from mlflow->-r requirements.txt (line 1)) (3.1.29)\nRequirement already satisfied: sqlparse<1,>=0.4.0 in /anaconda/envs/azureml_py310_sdkv2/lib/python3.10/site-packages (from mlflow->-r requirements.txt (line 1)) (0.4.3)\nRequirement already satisfied: protobuf<5,>=3.12.0 in /anaconda/envs/azureml_py310_sdkv2/lib/python3.10/site-packages (from mlflow->-r requirements.txt (line 1)) (3.20.3)\nRequirement already satisfied: querystring-parser<2 in /anaconda/envs/azureml_py310_sdkv2/lib/python3.10/site-packages (from mlflow->-r requirements.txt (line 1)) (1.2.4)\nRequirement already satisfied: prometheus-flask-exporter<1 in /anaconda/envs/azureml_py310_sdkv2/lib/python3.10/site-packages (from mlflow->-r requirements.txt (line 1)) (0.21.0)\nRequirement already satisfied: importlib-metadata!=4.7.0,<6,>=3.7.0 in /anaconda/envs/azureml_py310_sdkv2/lib/python3.10/site-packages (from mlflow->-r requirements.txt (line 1)) (5.0.0)\nRequirement already satisfied: alembic<2 in /anaconda/envs/azureml_py310_sdkv2/lib/python3.10/site-packages (from mlflow->-r requirements.txt (line 1)) (1.8.1)\nRequirement already satisfied: python-dateutil<3.0.0,>=2.7.3 in /anaconda/envs/azureml_py310_sdkv2/lib/python3.10/site-packages (from azureml-mlflow->-r requirements.txt (line 2)) (2.8.2)\nRequirement already satisfied: azure-common<2.0.0,>=1.1 in /anaconda/envs/azureml_py310_sdkv2/lib/python3.10/site-packages (from azureml-mlflow->-r requirements.txt (line 2)) (1.1.28)\nRequirement already satisfied: azure-core!=1.22.0,<2.0.0,>=1.8.0 in /anaconda/envs/azureml_py310_sdkv2/lib/python3.10/site-packages (from azureml-mlflow->-r requirements.txt (line 2)) (1.26.1)\nRequirement already satisfied: jsonpickle in /anaconda/envs/azureml_py310_sdkv2/lib/python3.10/site-packages (from azureml-mlflow->-r requirements.txt (line 2)) (2.2.0)\nRequirement already satisfied: azure-mgmt-core<2.0.0,>=1.2.0 in /anaconda/envs/azureml_py310_sdkv2/lib/python3.10/site-packages (from azureml-mlflow->-r requirements.txt (line 2)) (1.3.2)\nRequirement already satisfied: cryptography in /anaconda/envs/azureml_py310_sdkv2/lib/python3.10/site-packages (from azureml-mlflow->-r requirements.txt (line 2)) (38.0.3)\nRequirement already satisfied: msrest>=0.6.18 in /anaconda/envs/azureml_py310_sdkv2/lib/python3.10/site-packages (from azureml-mlflow->-r requirements.txt (line 2)) (0.7.1)\nRequirement already satisfied: mlflow-skinny in /anaconda/envs/azureml_py310_sdkv2/lib/python3.10/site-packages (from azureml-mlflow->-r requirements.txt (line 2)) (1.30.0)\nRequirement already satisfied: azure-storage-blob<=12.13.0,>=12.5.0 in /anaconda/envs/azureml_py310_sdkv2/lib/python3.10/site-packages (from azureml-mlflow->-r requirements.txt (line 2)) (12.13.0)\nRequirement already satisfied: azure-identity in /anaconda/envs/azureml_py310_sdkv2/lib/python3.10/site-packages (from azureml-mlflow->-r requirements.txt (line 2)) (1.7.0)\nCollecting threadpoolctl>=2.0.0\n  Downloading threadpoolctl-3.1.0-py3-none-any.whl (14 kB)\nCollecting joblib>=1.1.1\n  Downloading joblib-1.2.0-py3-none-any.whl (297 kB)\n\u001b[2K     \u001b[90m━━━━━━━━━━━━━━━━━━━━━━━━━━━━━━━━━━━━━━\u001b[0m \u001b[32m298.0/298.0 kB\u001b[0m \u001b[31m22.1 MB/s\u001b[0m eta \u001b[36m0:00:00\u001b[0m\n\u001b[?25hRequirement already satisfied: contourpy>=1.0.1 in /anaconda/envs/azureml_py310_sdkv2/lib/python3.10/site-packages (from matplotlib->-r requirements.txt (line 6)) (1.0.6)\nRequirement already satisfied: fonttools>=4.22.0 in /anaconda/envs/azureml_py310_sdkv2/lib/python3.10/site-packages (from matplotlib->-r requirements.txt (line 6)) (4.38.0)\nRequirement already satisfied: cycler>=0.10 in /anaconda/envs/azureml_py310_sdkv2/lib/python3.10/site-packages (from matplotlib->-r requirements.txt (line 6)) (0.11.0)\nRequirement already satisfied: kiwisolver>=1.0.1 in /anaconda/envs/azureml_py310_sdkv2/lib/python3.10/site-packages (from matplotlib->-r requirements.txt (line 6)) (1.4.4)\nRequirement already satisfied: pillow>=6.2.0 in /anaconda/envs/azureml_py310_sdkv2/lib/python3.10/site-packages (from matplotlib->-r requirements.txt (line 6)) (9.3.0)\nRequirement already satisfied: pyparsing>=2.2.1 in /anaconda/envs/azureml_py310_sdkv2/lib/python3.10/site-packages (from matplotlib->-r requirements.txt (line 6)) (3.0.9)\nRequirement already satisfied: Mako in /anaconda/envs/azureml_py310_sdkv2/lib/python3.10/site-packages (from alembic<2->mlflow->-r requirements.txt (line 1)) (1.2.3)\nRequirement already satisfied: typing-extensions>=4.0.1 in /anaconda/envs/azureml_py310_sdkv2/lib/python3.10/site-packages (from azure-core!=1.22.0,<2.0.0,>=1.8.0->azureml-mlflow->-r requirements.txt (line 2)) (4.4.0)\nRequirement already satisfied: six>=1.11.0 in /anaconda/envs/azureml_py310_sdkv2/lib/python3.10/site-packages (from azure-core!=1.22.0,<2.0.0,>=1.8.0->azureml-mlflow->-r requirements.txt (line 2)) (1.16.0)\nRequirement already satisfied: cffi>=1.12 in /anaconda/envs/azureml_py310_sdkv2/lib/python3.10/site-packages (from cryptography->azureml-mlflow->-r requirements.txt (line 2)) (1.15.1)\nRequirement already satisfied: oauthlib>=3.1.0 in /anaconda/envs/azureml_py310_sdkv2/lib/python3.10/site-packages (from databricks-cli<1,>=0.8.7->mlflow->-r requirements.txt (line 1)) (3.2.2)\nRequirement already satisfied: tabulate>=0.7.7 in /anaconda/envs/azureml_py310_sdkv2/lib/python3.10/site-packages (from databricks-cli<1,>=0.8.7->mlflow->-r requirements.txt (line 1)) (0.9.0)\nRequirement already satisfied: pyjwt>=1.7.0 in /anaconda/envs/azureml_py310_sdkv2/lib/python3.10/site-packages (from databricks-cli<1,>=0.8.7->mlflow->-r requirements.txt (line 1)) (2.6.0)\nRequirement already satisfied: urllib3>=1.26.0 in /anaconda/envs/azureml_py310_sdkv2/lib/python3.10/site-packages (from docker<7,>=4.0.0->mlflow->-r requirements.txt (line 1)) (1.26.12)\nRequirement already satisfied: websocket-client>=0.32.0 in /anaconda/envs/azureml_py310_sdkv2/lib/python3.10/site-packages (from docker<7,>=4.0.0->mlflow->-r requirements.txt (line 1)) (1.4.2)\nRequirement already satisfied: Werkzeug>=2.2.2 in /anaconda/envs/azureml_py310_sdkv2/lib/python3.10/site-packages (from Flask<3->mlflow->-r requirements.txt (line 1)) (2.2.2)\nRequirement already satisfied: Jinja2>=3.0 in /anaconda/envs/azureml_py310_sdkv2/lib/python3.10/site-packages (from Flask<3->mlflow->-r requirements.txt (line 1)) (3.1.2)\nRequirement already satisfied: itsdangerous>=2.0 in /anaconda/envs/azureml_py310_sdkv2/lib/python3.10/site-packages (from Flask<3->mlflow->-r requirements.txt (line 1)) (2.1.2)\nRequirement already satisfied: gitdb<5,>=4.0.1 in /anaconda/envs/azureml_py310_sdkv2/lib/python3.10/site-packages (from gitpython<4,>=2.1.0->mlflow->-r requirements.txt (line 1)) (4.0.9)\nRequirement already satisfied: setuptools>=3.0 in /anaconda/envs/azureml_py310_sdkv2/lib/python3.10/site-packages (from gunicorn<21->mlflow->-r requirements.txt (line 1)) (65.5.0)\nRequirement already satisfied: zipp>=0.5 in /anaconda/envs/azureml_py310_sdkv2/lib/python3.10/site-packages (from importlib-metadata!=4.7.0,<6,>=3.7.0->mlflow->-r requirements.txt (line 1)) (3.10.0)\nRequirement already satisfied: isodate>=0.6.0 in /anaconda/envs/azureml_py310_sdkv2/lib/python3.10/site-packages (from msrest>=0.6.18->azureml-mlflow->-r requirements.txt (line 2)) (0.6.1)\nRequirement already satisfied: certifi>=2017.4.17 in /anaconda/envs/azureml_py310_sdkv2/lib/python3.10/site-packages (from msrest>=0.6.18->azureml-mlflow->-r requirements.txt (line 2)) (2022.6.15)\nRequirement already satisfied: requests-oauthlib>=0.5.0 in /anaconda/envs/azureml_py310_sdkv2/lib/python3.10/site-packages (from msrest>=0.6.18->azureml-mlflow->-r requirements.txt (line 2)) (1.3.1)\nRequirement already satisfied: prometheus-client in /anaconda/envs/azureml_py310_sdkv2/lib/python3.10/site-packages (from prometheus-flask-exporter<1->mlflow->-r requirements.txt (line 1)) (0.15.0)\nRequirement already satisfied: charset-normalizer<3,>=2 in /anaconda/envs/azureml_py310_sdkv2/lib/python3.10/site-packages (from requests<3,>=2.17.3->mlflow->-r requirements.txt (line 1)) (2.1.1)\nRequirement already satisfied: idna<4,>=2.5 in /anaconda/envs/azureml_py310_sdkv2/lib/python3.10/site-packages (from requests<3,>=2.17.3->mlflow->-r requirements.txt (line 1)) (3.4)\nRequirement already satisfied: greenlet!=0.4.17 in /anaconda/envs/azureml_py310_sdkv2/lib/python3.10/site-packages (from sqlalchemy<2,>=1.4.0->mlflow->-r requirements.txt (line 1)) (2.0.1)\nRequirement already satisfied: msal-extensions~=0.3.0 in /anaconda/envs/azureml_py310_sdkv2/lib/python3.10/site-packages (from azure-identity->azureml-mlflow->-r requirements.txt (line 2)) (0.3.1)\nRequirement already satisfied: msal<2.0.0,>=1.12.0 in /anaconda/envs/azureml_py310_sdkv2/lib/python3.10/site-packages (from azure-identity->azureml-mlflow->-r requirements.txt (line 2)) (1.20.0)\nRequirement already satisfied: pycparser in /anaconda/envs/azureml_py310_sdkv2/lib/python3.10/site-packages (from cffi>=1.12->cryptography->azureml-mlflow->-r requirements.txt (line 2)) (2.21)\nRequirement already satisfied: smmap<6,>=3.0.1 in /anaconda/envs/azureml_py310_sdkv2/lib/python3.10/site-packages (from gitdb<5,>=4.0.1->gitpython<4,>=2.1.0->mlflow->-r requirements.txt (line 1)) (5.0.0)\nRequirement already satisfied: MarkupSafe>=2.0 in /anaconda/envs/azureml_py310_sdkv2/lib/python3.10/site-packages (from Jinja2>=3.0->Flask<3->mlflow->-r requirements.txt (line 1)) (2.1.1)\nRequirement already satisfied: portalocker<3,>=1.0 in /anaconda/envs/azureml_py310_sdkv2/lib/python3.10/site-packages (from msal-extensions~=0.3.0->azure-identity->azureml-mlflow->-r requirements.txt (line 2)) (2.6.0)\nInstalling collected packages: threadpoolctl, joblib, scikit-learn\nSuccessfully installed joblib-1.2.0 scikit-learn-1.2.0 threadpoolctl-3.1.0\nNote: you may need to restart the kernel to use updated packages.\n"
        }
      ],
      "execution_count": 2,
      "metadata": {
        "jupyter": {
          "source_hidden": false,
          "outputs_hidden": false
        },
        "nteract": {
          "transient": {
            "deleting": false
          }
        },
        "gather": {
          "logged": 1671823668356
        }
      },
      "id": "38fdd924-aea8-4388-a68c-25ae7febc83a"
    },
    {
      "cell_type": "code",
      "source": [
        "from azureml.core import Workspace\n",
        "ws = Workspace.from_config('')"
      ],
      "outputs": [],
      "execution_count": 8,
      "metadata": {
        "gather": {
          "logged": 1671840970141
        }
      },
      "id": "58448535"
    },
    {
      "cell_type": "code",
      "source": [
        "import mlflow\n",
        "\n",
        "mlflow.set_experiment(experiment_name=\"cars-mlr2\")"
      ],
      "outputs": [
        {
          "output_type": "execute_result",
          "execution_count": 9,
          "data": {
            "text/plain": "<Experiment: artifact_location='', creation_time=1671823866008, experiment_id='3edbaace-d76b-4190-910e-c554d993d932', last_update_time=None, lifecycle_stage='active', name='cars-mlr2', tags={}>"
          },
          "metadata": {}
        }
      ],
      "execution_count": 9,
      "metadata": {
        "gather": {
          "logged": 1671840982668
        }
      },
      "id": "540256f0"
    },
    {
      "cell_type": "code",
      "source": [
        "import pandas as pd\n",
        "file_url = r\"Cars.csv\"\n",
        "df = pd.read_csv(file_url)"
      ],
      "outputs": [],
      "execution_count": 10,
      "metadata": {
        "gather": {
          "logged": 1671840985245
        }
      },
      "id": "c3f17d5e"
    },
    {
      "cell_type": "code",
      "source": [
        "X = df.iloc[:, 2:6].values\n",
        "y = df.iloc[:, 0].values"
      ],
      "outputs": [],
      "execution_count": 11,
      "metadata": {
        "gather": {
          "logged": 1671840986682
        }
      },
      "id": "2e6465ae"
    },
    {
      "cell_type": "code",
      "source": [
        "mlflow.sklearn.autolog()"
      ],
      "outputs": [
        {
          "output_type": "stream",
          "name": "stderr",
          "text": "2022/12/24 00:16:30 WARNING mlflow.utils.autologging_utils: You are using an unsupported version of sklearn. If you encounter errors during autologging, try upgrading / downgrading sklearn to a supported version, or try upgrading MLflow.\n"
        }
      ],
      "execution_count": 12,
      "metadata": {
        "gather": {
          "logged": 1671840991009
        }
      },
      "id": "821b9eac"
    },
    {
      "cell_type": "code",
      "source": [
        "run = mlflow.start_run()"
      ],
      "outputs": [],
      "execution_count": 13,
      "metadata": {
        "gather": {
          "logged": 1671840993577
        }
      },
      "id": "f360e7ad"
    },
    {
      "cell_type": "code",
      "source": [
        "from sklearn.model_selection import train_test_split\n",
        "X_train, X_test, y_train, y_test = train_test_split(X, y, test_size = 0.2, random_state = 0)\n",
        "from sklearn.linear_model import LinearRegression\n",
        "multilinear = LinearRegression()\n",
        "multilinear.fit(X_train,y_train)"
      ],
      "outputs": [
        {
          "output_type": "execute_result",
          "execution_count": 14,
          "data": {
            "text/plain": "LinearRegression()",
            "text/html": "<style>#sk-container-id-2 {color: black;background-color: white;}#sk-container-id-2 pre{padding: 0;}#sk-container-id-2 div.sk-toggleable {background-color: white;}#sk-container-id-2 label.sk-toggleable__label {cursor: pointer;display: block;width: 100%;margin-bottom: 0;padding: 0.3em;box-sizing: border-box;text-align: center;}#sk-container-id-2 label.sk-toggleable__label-arrow:before {content: \"▸\";float: left;margin-right: 0.25em;color: #696969;}#sk-container-id-2 label.sk-toggleable__label-arrow:hover:before {color: black;}#sk-container-id-2 div.sk-estimator:hover label.sk-toggleable__label-arrow:before {color: black;}#sk-container-id-2 div.sk-toggleable__content {max-height: 0;max-width: 0;overflow: hidden;text-align: left;background-color: #f0f8ff;}#sk-container-id-2 div.sk-toggleable__content pre {margin: 0.2em;color: black;border-radius: 0.25em;background-color: #f0f8ff;}#sk-container-id-2 input.sk-toggleable__control:checked~div.sk-toggleable__content {max-height: 200px;max-width: 100%;overflow: auto;}#sk-container-id-2 input.sk-toggleable__control:checked~label.sk-toggleable__label-arrow:before {content: \"▾\";}#sk-container-id-2 div.sk-estimator input.sk-toggleable__control:checked~label.sk-toggleable__label {background-color: #d4ebff;}#sk-container-id-2 div.sk-label input.sk-toggleable__control:checked~label.sk-toggleable__label {background-color: #d4ebff;}#sk-container-id-2 input.sk-hidden--visually {border: 0;clip: rect(1px 1px 1px 1px);clip: rect(1px, 1px, 1px, 1px);height: 1px;margin: -1px;overflow: hidden;padding: 0;position: absolute;width: 1px;}#sk-container-id-2 div.sk-estimator {font-family: monospace;background-color: #f0f8ff;border: 1px dotted black;border-radius: 0.25em;box-sizing: border-box;margin-bottom: 0.5em;}#sk-container-id-2 div.sk-estimator:hover {background-color: #d4ebff;}#sk-container-id-2 div.sk-parallel-item::after {content: \"\";width: 100%;border-bottom: 1px solid gray;flex-grow: 1;}#sk-container-id-2 div.sk-label:hover label.sk-toggleable__label {background-color: #d4ebff;}#sk-container-id-2 div.sk-serial::before {content: \"\";position: absolute;border-left: 1px solid gray;box-sizing: border-box;top: 0;bottom: 0;left: 50%;z-index: 0;}#sk-container-id-2 div.sk-serial {display: flex;flex-direction: column;align-items: center;background-color: white;padding-right: 0.2em;padding-left: 0.2em;position: relative;}#sk-container-id-2 div.sk-item {position: relative;z-index: 1;}#sk-container-id-2 div.sk-parallel {display: flex;align-items: stretch;justify-content: center;background-color: white;position: relative;}#sk-container-id-2 div.sk-item::before, #sk-container-id-2 div.sk-parallel-item::before {content: \"\";position: absolute;border-left: 1px solid gray;box-sizing: border-box;top: 0;bottom: 0;left: 50%;z-index: -1;}#sk-container-id-2 div.sk-parallel-item {display: flex;flex-direction: column;z-index: 1;position: relative;background-color: white;}#sk-container-id-2 div.sk-parallel-item:first-child::after {align-self: flex-end;width: 50%;}#sk-container-id-2 div.sk-parallel-item:last-child::after {align-self: flex-start;width: 50%;}#sk-container-id-2 div.sk-parallel-item:only-child::after {width: 0;}#sk-container-id-2 div.sk-dashed-wrapped {border: 1px dashed gray;margin: 0 0.4em 0.5em 0.4em;box-sizing: border-box;padding-bottom: 0.4em;background-color: white;}#sk-container-id-2 div.sk-label label {font-family: monospace;font-weight: bold;display: inline-block;line-height: 1.2em;}#sk-container-id-2 div.sk-label-container {text-align: center;}#sk-container-id-2 div.sk-container {/* jupyter's `normalize.less` sets `[hidden] { display: none; }` but bootstrap.min.css set `[hidden] { display: none !important; }` so we also need the `!important` here to be able to override the default hidden behavior on the sphinx rendered scikit-learn.org. See: https://github.com/scikit-learn/scikit-learn/issues/21755 */display: inline-block !important;position: relative;}#sk-container-id-2 div.sk-text-repr-fallback {display: none;}</style><div id=\"sk-container-id-2\" class=\"sk-top-container\"><div class=\"sk-text-repr-fallback\"><pre>LinearRegression()</pre><b>In a Jupyter environment, please rerun this cell to show the HTML representation or trust the notebook. <br />On GitHub, the HTML representation is unable to render, please try loading this page with nbviewer.org.</b></div><div class=\"sk-container\" hidden><div class=\"sk-item\"><div class=\"sk-estimator sk-toggleable\"><input class=\"sk-toggleable__control sk-hidden--visually\" id=\"sk-estimator-id-2\" type=\"checkbox\" checked><label for=\"sk-estimator-id-2\" class=\"sk-toggleable__label sk-toggleable__label-arrow\">LinearRegression</label><div class=\"sk-toggleable__content\"><pre>LinearRegression()</pre></div></div></div></div></div>"
          },
          "metadata": {}
        }
      ],
      "execution_count": 14,
      "metadata": {
        "gather": {
          "logged": 1671841003564
        }
      },
      "id": "cb4d630c"
    },
    {
      "cell_type": "code",
      "source": [
        "y_pred = multilinear.predict(X_test)"
      ],
      "outputs": [],
      "execution_count": 16,
      "metadata": {
        "gather": {
          "logged": 1671841016580
        }
      },
      "id": "c0aa0d9c"
    },
    {
      "cell_type": "code",
      "source": [
        "from sklearn.metrics import r2_score\n",
        "accuracy = r2_score(y_test, y_pred)\n",
        "accuracy"
      ],
      "outputs": [
        {
          "output_type": "execute_result",
          "execution_count": 17,
          "data": {
            "text/plain": "0.7105173175987358"
          },
          "metadata": {}
        }
      ],
      "execution_count": 17,
      "metadata": {
        "gather": {
          "logged": 1671841018709
        }
      },
      "id": "31987d89"
    },
    {
      "cell_type": "code",
      "source": [
        "mlflow.end_run()"
      ],
      "outputs": [],
      "execution_count": 18,
      "metadata": {
        "gather": {
          "logged": 1671841020999
        }
      },
      "id": "60705d2c"
    },
    {
      "cell_type": "code",
      "source": [
        "run = mlflow.get_run(run.info.run_id)"
      ],
      "outputs": [],
      "execution_count": 19,
      "metadata": {
        "gather": {
          "logged": 1671841022589
        }
      },
      "id": "46c981b9"
    },
    {
      "cell_type": "code",
      "source": [
        "pd.DataFrame(data=[run.data.params], index=[\"Value\"]).T"
      ],
      "outputs": [
        {
          "output_type": "execute_result",
          "execution_count": 20,
          "data": {
            "text/plain": "               Value\ncopy_X          True\nfit_intercept   True\nn_jobs          None\npositive       False",
            "text/html": "<div>\n<style scoped>\n    .dataframe tbody tr th:only-of-type {\n        vertical-align: middle;\n    }\n\n    .dataframe tbody tr th {\n        vertical-align: top;\n    }\n\n    .dataframe thead th {\n        text-align: right;\n    }\n</style>\n<table border=\"1\" class=\"dataframe\">\n  <thead>\n    <tr style=\"text-align: right;\">\n      <th></th>\n      <th>Value</th>\n    </tr>\n  </thead>\n  <tbody>\n    <tr>\n      <th>copy_X</th>\n      <td>True</td>\n    </tr>\n    <tr>\n      <th>fit_intercept</th>\n      <td>True</td>\n    </tr>\n    <tr>\n      <th>n_jobs</th>\n      <td>None</td>\n    </tr>\n    <tr>\n      <th>positive</th>\n      <td>False</td>\n    </tr>\n  </tbody>\n</table>\n</div>"
          },
          "metadata": {}
        }
      ],
      "execution_count": 20,
      "metadata": {
        "gather": {
          "logged": 1671841025935
        }
      },
      "id": "31b2cce3"
    },
    {
      "cell_type": "code",
      "source": [
        "pd.DataFrame(data=[run.data.metrics], index=[\"Value\"]).T"
      ],
      "outputs": [
        {
          "output_type": "execute_result",
          "execution_count": 21,
          "data": {
            "text/plain": "                      Value\ntraining_r2_score  0.766595\ntraining_score     0.766595\ntraining_rmse      2.930500\ntraining_mse       8.587831\ntraining_mae       1.945283\nr2_score_X_test    0.710517",
            "text/html": "<div>\n<style scoped>\n    .dataframe tbody tr th:only-of-type {\n        vertical-align: middle;\n    }\n\n    .dataframe tbody tr th {\n        vertical-align: top;\n    }\n\n    .dataframe thead th {\n        text-align: right;\n    }\n</style>\n<table border=\"1\" class=\"dataframe\">\n  <thead>\n    <tr style=\"text-align: right;\">\n      <th></th>\n      <th>Value</th>\n    </tr>\n  </thead>\n  <tbody>\n    <tr>\n      <th>training_r2_score</th>\n      <td>0.766595</td>\n    </tr>\n    <tr>\n      <th>training_score</th>\n      <td>0.766595</td>\n    </tr>\n    <tr>\n      <th>training_rmse</th>\n      <td>2.930500</td>\n    </tr>\n    <tr>\n      <th>training_mse</th>\n      <td>8.587831</td>\n    </tr>\n    <tr>\n      <th>training_mae</th>\n      <td>1.945283</td>\n    </tr>\n    <tr>\n      <th>r2_score_X_test</th>\n      <td>0.710517</td>\n    </tr>\n  </tbody>\n</table>\n</div>"
          },
          "metadata": {}
        }
      ],
      "execution_count": 21,
      "metadata": {
        "gather": {
          "logged": 1671841027869
        }
      },
      "id": "528574d9"
    },
    {
      "cell_type": "code",
      "source": [
        "client = mlflow.tracking.MlflowClient()"
      ],
      "outputs": [],
      "execution_count": 22,
      "metadata": {
        "gather": {
          "logged": 1671841029929
        }
      },
      "id": "670b565d"
    },
    {
      "cell_type": "code",
      "source": [
        "client.list_artifacts(run_id=run.info.run_id)"
      ],
      "outputs": [
        {
          "output_type": "execute_result",
          "execution_count": 23,
          "data": {
            "text/plain": "[<FileInfo: file_size=-1, is_dir=False, path='estimator.html'>,\n <FileInfo: file_size=-1, is_dir=False, path='metric_info.json'>,\n <FileInfo: file_size=-1, is_dir=True, path='model'>]"
          },
          "metadata": {}
        }
      ],
      "execution_count": 23,
      "metadata": {
        "gather": {
          "logged": 1671841032273
        }
      },
      "id": "2a2e0b5d"
    },
    {
      "cell_type": "code",
      "source": [
        "regressor = mlflow.sklearn.load_model(f\"runs:/{run.info.run_id}/model\")"
      ],
      "outputs": [],
      "execution_count": 24,
      "metadata": {
        "gather": {
          "logged": 1671841034300
        }
      },
      "id": "c1856932"
    },
    {
      "cell_type": "code",
      "source": [
        "regressor.predict(X_test)"
      ],
      "outputs": [
        {
          "output_type": "execute_result",
          "execution_count": 25,
          "data": {
            "text/plain": "array([24.84303264, 28.24331711, 34.4505337 , 25.29971213, 32.09981075,\n       33.79268187, 40.47333476, 35.04828473, 40.47333476, 36.89489481,\n       23.6246313 , 38.11835714, 24.84303264, 24.21167565, 42.06180763,\n       35.90252503, 30.20871483, 40.48392591, 30.20871483, 30.20871483,\n       24.84303264, 35.94422557, 36.2784823 , 24.84303264, 23.36939651,\n       34.2751037 , 37.197936  , 32.84912834, 32.11507866, 26.70149115,\n       35.34257263, 36.3682537 , 24.84303264, 38.11835714, 40.47333476,\n       35.81418338, 35.04385508, 37.97395098, 43.05310041, 34.17629951,\n       43.71865778, 36.93280606, 37.32021288, 37.61534547, 36.3682537 ,\n       28.87368387, 35.94422557, 34.96167709, 34.17629951, 19.51700417,\n       36.3682537 , 14.69329161, 36.54883285, 36.89489481, 35.81418338,\n       40.48392591, 32.27137381, 32.09981075, 37.67774868, 24.2078474 ,\n       32.11507866, 37.197936  , 37.32021288, 34.73215607, 26.70149115,\n       37.61534547, 18.79076337, 36.54883285, 32.60776465, 35.04385508,\n       34.96167709, 33.79268187, 34.96167709, 40.48392591, 37.32021288,\n       32.11507866, 38.93877665, 35.04828473, 34.20842298, 37.61534547,\n       35.94422557, 36.89489481, 37.61582062, 45.23333525, 36.89489481,\n       43.97539786, 36.93280606, 38.11835714, 34.2751037 , 26.70149115,\n       34.20842298, 32.11507866, 32.09981075, 24.84303264, 34.17629951,\n       30.20871483, 25.29971213, 38.11835714, 36.54883285, 38.93877665,\n       28.87368387, 34.17629951, 37.74689106, 34.17629951, 35.90252503,\n       36.89489481, 34.17629951, 35.34257263, 37.61534547, 24.84303264,\n       37.197936  , 35.34257263, 34.2751037 , 32.27137381, 37.61582062,\n       35.34257263, 26.70149115, 32.27137381, 32.11507866, 36.93280606,\n       32.09981075, 35.90252503, 32.11507866, 28.87368387, 24.84303264,\n       32.27137381, 37.67774868, 37.61534547, 28.87368387, 32.27137381,\n       24.84303264, 37.61582062, 35.34257263, 37.61582062, 36.54883285,\n       34.73215607, 32.27137381, 34.4505337 , 30.20871483, 32.11507866,\n       38.11835714, 32.11507866, 35.04828473, 38.60273015, 32.27137381,\n       32.60776465, 26.70149115, 36.54883285, 23.36939651, 26.70149115,\n       36.3682537 , 24.2078474 , 36.54883285, 38.93877665, 39.88978713,\n       38.02144841, 36.93280606, 36.89489481, 32.27137381, 30.20871483,\n       34.4505337 , 34.96167709, 34.4505337 , 34.17629951, 33.79268187,\n       35.04828473, 33.79268187, 40.28809782, 37.97395098, 34.4505337 ,\n       37.32021288, 35.04828473, 40.314701  , 30.20871483, 33.79268187,\n       35.90252503, 31.54452838, 34.96167709, 37.32021288, 18.79076337,\n       38.93877665, 36.3682537 , 35.90252503, 35.90252503, 33.79268187,\n       26.70149115, 36.93280606, 38.93877665, 34.96167709, 34.17629951,\n       35.04828473, 19.51700417, 34.2751037 , 24.84303264, 24.84303264,\n       32.09981075, 35.81418338, 40.56427001, 23.0772458 , 34.20842298,\n       35.04828473, 32.60776465, 38.93877665, 31.54452838, 36.89489481,\n       36.3682537 , 34.73215607, 11.89225555, 37.97395098, 35.94422557,\n       37.197936  , 35.34257263, 25.12879446, 37.61582062, 32.27137381,\n       34.4505337 , 24.84303264, 34.17629951, 37.32021288, 30.20871483,\n       33.79268187, 36.89489481, 34.4505337 , 33.79268187, 34.4505337 ,\n       40.314701  , 16.07481545, 35.04828473, 38.11835714, 33.79268187,\n       34.20842298, 34.4505337 , 23.36939651, 41.31912017, 34.2751037 ,\n       32.60776465, 35.34257263, 38.93877665, 38.11835714, 44.28453079,\n       32.27137381, 42.06180763, 30.20871483, 34.96167709, 35.04385508,\n       12.75144289, 34.20842298, 35.94422557, 32.11507866, 32.11507866,\n       24.84303264, 32.11507866, 32.27137381, 34.2751037 , 38.6590972 ,\n       41.66062427, 34.98457364, 16.07481545, 34.20842298, 36.93280606,\n       34.98457364, 45.23333525, 40.98715492, 39.88978713, 34.4505337 ,\n       36.3682537 , 35.34257263, 28.87368387, 34.96167709, 36.89489481,\n       34.98457364, 31.54452838, 35.34257263, 29.18214796, 36.93280606,\n       34.4505337 , 40.56427001, 34.4505337 , 32.11507866, 12.75144289,\n       39.88978713, 12.75144289, 35.04828473, 41.9507007 , 34.17629951,\n       38.60273015, 38.02144841, 35.34257263, 38.11835714, 29.18214796,\n       37.61582062, 37.61582062, 36.2784823 , 26.70149115, 34.4505337 ,\n       38.93877665, 24.84303264, 30.20871483, 43.97539786, 36.3682537 ,\n       26.70149115, 33.79268187, 34.17629951, 43.71865778, 28.87368387,\n       36.3682537 , 37.32021288, 16.07481545, 35.94422557, 34.4505337 ,\n       37.74689106, 33.79268187, 30.20871483, 37.67774868, 35.34257263,\n       40.48392591, 32.11507866, 34.4505337 , 35.04828473, 34.17629951,\n       37.32021288, 37.97395098, 40.28809782, 37.61582062, 37.67774868,\n       35.94422557, 35.04385508, 14.69329161, 37.97395098, 24.84303264,\n       35.34257263, 26.70149115, 37.61582062, 32.11507866, 32.11507866,\n       43.05310041, 40.56427001, 32.11507866, 32.09981075, 34.98457364,\n       44.28453079, 40.28809782, 35.04385508, 26.70149115, 36.3682537 ,\n       37.74689106, 20.26901175, 34.20842298, 33.79268187, 36.2784823 ,\n       34.2751037 , 37.32021288, 35.04385508, 35.90252503, 35.94422557,\n       30.20871483, 40.56427001, 32.11507866, 34.4505337 , 36.89489481,\n       35.04828473, 39.88978713, 33.79268187, 24.84303264, 37.32021288,\n       38.11835714, 38.11835714, 35.81418338, 36.93280606, 36.54883285,\n       43.05310041, 35.04385508, 40.47333476, 34.17629951, 24.2078474 ,\n       35.90252503, 38.93877665, 36.3682537 , 23.00259601, 36.54883285,\n       35.90252503, 37.197936  , 24.84303264, 32.09981075, 28.87368387,\n       24.84303264, 35.94422557, 36.93280606, 32.27137381, 37.32021288,\n       30.20871483, 38.93877665, 43.97539786, 34.96167709, 45.23333525,\n       24.84303264, 36.89489481, 37.67774868, 32.09981075,  7.60677755,\n        7.60677755, 38.93877665, 36.93280606, 34.96167709, 35.81418338,\n       34.4505337 , 37.197936  , 37.61534547, 34.4505337 , 40.48392591,\n       35.81418338, 41.9507007 , 32.11507866, 32.11507866, 11.89225555,\n       34.4505337 , 38.11835714, 38.85622918, 36.3682537 , 43.71865778,\n       36.54883285, 34.2751037 , 32.09981075, 24.84303264, 36.54883285,\n       37.32021288, 33.79268187, 35.04828473, 35.04828473, 35.04828473,\n       34.2751037 , 38.85622918, 35.34257263, 41.9507007 , 26.70149115,\n       37.197936  , 28.24331711, 28.87368387, 30.20871483, 30.20871483,\n       43.71865778, 12.75144289, 36.54883285, 38.11835714, 36.54883285,\n       32.09981075, 32.27137381, 28.87368387, 41.9507007 , 32.11507866,\n       32.09981075, 35.04828473, 40.98715492, 32.27137381, 37.32021288,\n       35.34257263, 37.197936  , 35.34257263, 42.44762402, 28.87368387,\n       35.94422557, 32.27137381, 34.17629951, 40.314701  , 32.11507866,\n       42.06180763, 35.34257263, 24.84303264, 24.84303264, 34.4505337 ,\n       33.79268187, 35.81418338, 34.17629951, 35.04385508, 32.11507866,\n       34.2751037 , 35.34257263, 37.32021288, 34.20842298, 26.70149115,\n       32.27137381, 35.04385508, 23.36939651, 37.61534547, 32.09981075,\n       11.89225555, 23.36939651, 24.84303264, 35.04828473, 32.09981075,\n       35.04385508, 34.4505337 , 32.11507866, 34.20842298, 35.04828473,\n       35.90252503, 26.70149115, 40.28809782, 39.88978713, 14.69329161])"
          },
          "metadata": {}
        }
      ],
      "execution_count": 25,
      "metadata": {
        "gather": {
          "logged": 1671841035582
        }
      },
      "id": "2d6d26eb"
    },
    {
      "cell_type": "code",
      "source": [
        "from sklearn.pipeline import Pipeline"
      ],
      "outputs": [],
      "execution_count": 26,
      "metadata": {
        "gather": {
          "logged": 1671841037155
        }
      },
      "id": "c552881c"
    },
    {
      "cell_type": "code",
      "source": [
        "pipeline=Pipeline(steps=[(\"model\",multilinear)])"
      ],
      "outputs": [],
      "execution_count": 27,
      "metadata": {
        "gather": {
          "logged": 1671841038710
        }
      },
      "id": "bf0e8225"
    },
    {
      "cell_type": "code",
      "source": [
        "pipeline"
      ],
      "outputs": [
        {
          "output_type": "execute_result",
          "execution_count": 28,
          "data": {
            "text/plain": "Pipeline(steps=[('model', LinearRegression())])",
            "text/html": "<style>#sk-container-id-3 {color: black;background-color: white;}#sk-container-id-3 pre{padding: 0;}#sk-container-id-3 div.sk-toggleable {background-color: white;}#sk-container-id-3 label.sk-toggleable__label {cursor: pointer;display: block;width: 100%;margin-bottom: 0;padding: 0.3em;box-sizing: border-box;text-align: center;}#sk-container-id-3 label.sk-toggleable__label-arrow:before {content: \"▸\";float: left;margin-right: 0.25em;color: #696969;}#sk-container-id-3 label.sk-toggleable__label-arrow:hover:before {color: black;}#sk-container-id-3 div.sk-estimator:hover label.sk-toggleable__label-arrow:before {color: black;}#sk-container-id-3 div.sk-toggleable__content {max-height: 0;max-width: 0;overflow: hidden;text-align: left;background-color: #f0f8ff;}#sk-container-id-3 div.sk-toggleable__content pre {margin: 0.2em;color: black;border-radius: 0.25em;background-color: #f0f8ff;}#sk-container-id-3 input.sk-toggleable__control:checked~div.sk-toggleable__content {max-height: 200px;max-width: 100%;overflow: auto;}#sk-container-id-3 input.sk-toggleable__control:checked~label.sk-toggleable__label-arrow:before {content: \"▾\";}#sk-container-id-3 div.sk-estimator input.sk-toggleable__control:checked~label.sk-toggleable__label {background-color: #d4ebff;}#sk-container-id-3 div.sk-label input.sk-toggleable__control:checked~label.sk-toggleable__label {background-color: #d4ebff;}#sk-container-id-3 input.sk-hidden--visually {border: 0;clip: rect(1px 1px 1px 1px);clip: rect(1px, 1px, 1px, 1px);height: 1px;margin: -1px;overflow: hidden;padding: 0;position: absolute;width: 1px;}#sk-container-id-3 div.sk-estimator {font-family: monospace;background-color: #f0f8ff;border: 1px dotted black;border-radius: 0.25em;box-sizing: border-box;margin-bottom: 0.5em;}#sk-container-id-3 div.sk-estimator:hover {background-color: #d4ebff;}#sk-container-id-3 div.sk-parallel-item::after {content: \"\";width: 100%;border-bottom: 1px solid gray;flex-grow: 1;}#sk-container-id-3 div.sk-label:hover label.sk-toggleable__label {background-color: #d4ebff;}#sk-container-id-3 div.sk-serial::before {content: \"\";position: absolute;border-left: 1px solid gray;box-sizing: border-box;top: 0;bottom: 0;left: 50%;z-index: 0;}#sk-container-id-3 div.sk-serial {display: flex;flex-direction: column;align-items: center;background-color: white;padding-right: 0.2em;padding-left: 0.2em;position: relative;}#sk-container-id-3 div.sk-item {position: relative;z-index: 1;}#sk-container-id-3 div.sk-parallel {display: flex;align-items: stretch;justify-content: center;background-color: white;position: relative;}#sk-container-id-3 div.sk-item::before, #sk-container-id-3 div.sk-parallel-item::before {content: \"\";position: absolute;border-left: 1px solid gray;box-sizing: border-box;top: 0;bottom: 0;left: 50%;z-index: -1;}#sk-container-id-3 div.sk-parallel-item {display: flex;flex-direction: column;z-index: 1;position: relative;background-color: white;}#sk-container-id-3 div.sk-parallel-item:first-child::after {align-self: flex-end;width: 50%;}#sk-container-id-3 div.sk-parallel-item:last-child::after {align-self: flex-start;width: 50%;}#sk-container-id-3 div.sk-parallel-item:only-child::after {width: 0;}#sk-container-id-3 div.sk-dashed-wrapped {border: 1px dashed gray;margin: 0 0.4em 0.5em 0.4em;box-sizing: border-box;padding-bottom: 0.4em;background-color: white;}#sk-container-id-3 div.sk-label label {font-family: monospace;font-weight: bold;display: inline-block;line-height: 1.2em;}#sk-container-id-3 div.sk-label-container {text-align: center;}#sk-container-id-3 div.sk-container {/* jupyter's `normalize.less` sets `[hidden] { display: none; }` but bootstrap.min.css set `[hidden] { display: none !important; }` so we also need the `!important` here to be able to override the default hidden behavior on the sphinx rendered scikit-learn.org. See: https://github.com/scikit-learn/scikit-learn/issues/21755 */display: inline-block !important;position: relative;}#sk-container-id-3 div.sk-text-repr-fallback {display: none;}</style><div id=\"sk-container-id-3\" class=\"sk-top-container\"><div class=\"sk-text-repr-fallback\"><pre>Pipeline(steps=[(&#x27;model&#x27;, LinearRegression())])</pre><b>In a Jupyter environment, please rerun this cell to show the HTML representation or trust the notebook. <br />On GitHub, the HTML representation is unable to render, please try loading this page with nbviewer.org.</b></div><div class=\"sk-container\" hidden><div class=\"sk-item sk-dashed-wrapped\"><div class=\"sk-label-container\"><div class=\"sk-label sk-toggleable\"><input class=\"sk-toggleable__control sk-hidden--visually\" id=\"sk-estimator-id-3\" type=\"checkbox\" ><label for=\"sk-estimator-id-3\" class=\"sk-toggleable__label sk-toggleable__label-arrow\">Pipeline</label><div class=\"sk-toggleable__content\"><pre>Pipeline(steps=[(&#x27;model&#x27;, LinearRegression())])</pre></div></div></div><div class=\"sk-serial\"><div class=\"sk-item\"><div class=\"sk-estimator sk-toggleable\"><input class=\"sk-toggleable__control sk-hidden--visually\" id=\"sk-estimator-id-4\" type=\"checkbox\" ><label for=\"sk-estimator-id-4\" class=\"sk-toggleable__label sk-toggleable__label-arrow\">LinearRegression</label><div class=\"sk-toggleable__content\"><pre>LinearRegression()</pre></div></div></div></div></div></div></div>"
          },
          "metadata": {}
        }
      ],
      "execution_count": 28,
      "metadata": {
        "gather": {
          "logged": 1671841040158
        }
      },
      "id": "82516c13"
    },
    {
      "cell_type": "code",
      "source": [
        "from mlflow.models import infer_signature\n",
        "\n",
        "signature = infer_signature(X_test, y_test)"
      ],
      "outputs": [],
      "execution_count": 29,
      "metadata": {
        "gather": {
          "logged": 1671841041801
        }
      },
      "id": "ae7ac3dd"
    },
    {
      "cell_type": "code",
      "source": [
        "signature"
      ],
      "outputs": [
        {
          "output_type": "execute_result",
          "execution_count": 30,
          "data": {
            "text/plain": "inputs: \n  [Tensor('float64', (-1, 4))]\noutputs: \n  [Tensor('float64', (-1,))]"
          },
          "metadata": {}
        }
      ],
      "execution_count": 30,
      "metadata": {
        "gather": {
          "logged": 1671841043343
        }
      },
      "id": "8e633cb6"
    },
    {
      "cell_type": "code",
      "source": [
        "with mlflow.start_run() as run:\n",
        "    pipeline.fit(X_train, y_train)\n",
        "    mlflow.sklearn.log_model(pipeline, artifact_path=\"pipeline\", signature=signature)"
      ],
      "outputs": [],
      "execution_count": 31,
      "metadata": {
        "gather": {
          "logged": 1671841051524
        }
      },
      "id": "fb93984d"
    },
    {
      "cell_type": "code",
      "source": [
        "pipeline_model = mlflow.sklearn.load_model(f\"runs:/{run.info.run_id}/pipeline\")"
      ],
      "outputs": [],
      "execution_count": 32,
      "metadata": {
        "gather": {
          "logged": 1671841053688
        }
      },
      "id": "48c7bf90"
    },
    {
      "cell_type": "code",
      "source": [
        "pipeline_model"
      ],
      "outputs": [
        {
          "output_type": "execute_result",
          "execution_count": 33,
          "data": {
            "text/plain": "Pipeline(steps=[('model', LinearRegression())])",
            "text/html": "<style>#sk-container-id-5 {color: black;background-color: white;}#sk-container-id-5 pre{padding: 0;}#sk-container-id-5 div.sk-toggleable {background-color: white;}#sk-container-id-5 label.sk-toggleable__label {cursor: pointer;display: block;width: 100%;margin-bottom: 0;padding: 0.3em;box-sizing: border-box;text-align: center;}#sk-container-id-5 label.sk-toggleable__label-arrow:before {content: \"▸\";float: left;margin-right: 0.25em;color: #696969;}#sk-container-id-5 label.sk-toggleable__label-arrow:hover:before {color: black;}#sk-container-id-5 div.sk-estimator:hover label.sk-toggleable__label-arrow:before {color: black;}#sk-container-id-5 div.sk-toggleable__content {max-height: 0;max-width: 0;overflow: hidden;text-align: left;background-color: #f0f8ff;}#sk-container-id-5 div.sk-toggleable__content pre {margin: 0.2em;color: black;border-radius: 0.25em;background-color: #f0f8ff;}#sk-container-id-5 input.sk-toggleable__control:checked~div.sk-toggleable__content {max-height: 200px;max-width: 100%;overflow: auto;}#sk-container-id-5 input.sk-toggleable__control:checked~label.sk-toggleable__label-arrow:before {content: \"▾\";}#sk-container-id-5 div.sk-estimator input.sk-toggleable__control:checked~label.sk-toggleable__label {background-color: #d4ebff;}#sk-container-id-5 div.sk-label input.sk-toggleable__control:checked~label.sk-toggleable__label {background-color: #d4ebff;}#sk-container-id-5 input.sk-hidden--visually {border: 0;clip: rect(1px 1px 1px 1px);clip: rect(1px, 1px, 1px, 1px);height: 1px;margin: -1px;overflow: hidden;padding: 0;position: absolute;width: 1px;}#sk-container-id-5 div.sk-estimator {font-family: monospace;background-color: #f0f8ff;border: 1px dotted black;border-radius: 0.25em;box-sizing: border-box;margin-bottom: 0.5em;}#sk-container-id-5 div.sk-estimator:hover {background-color: #d4ebff;}#sk-container-id-5 div.sk-parallel-item::after {content: \"\";width: 100%;border-bottom: 1px solid gray;flex-grow: 1;}#sk-container-id-5 div.sk-label:hover label.sk-toggleable__label {background-color: #d4ebff;}#sk-container-id-5 div.sk-serial::before {content: \"\";position: absolute;border-left: 1px solid gray;box-sizing: border-box;top: 0;bottom: 0;left: 50%;z-index: 0;}#sk-container-id-5 div.sk-serial {display: flex;flex-direction: column;align-items: center;background-color: white;padding-right: 0.2em;padding-left: 0.2em;position: relative;}#sk-container-id-5 div.sk-item {position: relative;z-index: 1;}#sk-container-id-5 div.sk-parallel {display: flex;align-items: stretch;justify-content: center;background-color: white;position: relative;}#sk-container-id-5 div.sk-item::before, #sk-container-id-5 div.sk-parallel-item::before {content: \"\";position: absolute;border-left: 1px solid gray;box-sizing: border-box;top: 0;bottom: 0;left: 50%;z-index: -1;}#sk-container-id-5 div.sk-parallel-item {display: flex;flex-direction: column;z-index: 1;position: relative;background-color: white;}#sk-container-id-5 div.sk-parallel-item:first-child::after {align-self: flex-end;width: 50%;}#sk-container-id-5 div.sk-parallel-item:last-child::after {align-self: flex-start;width: 50%;}#sk-container-id-5 div.sk-parallel-item:only-child::after {width: 0;}#sk-container-id-5 div.sk-dashed-wrapped {border: 1px dashed gray;margin: 0 0.4em 0.5em 0.4em;box-sizing: border-box;padding-bottom: 0.4em;background-color: white;}#sk-container-id-5 div.sk-label label {font-family: monospace;font-weight: bold;display: inline-block;line-height: 1.2em;}#sk-container-id-5 div.sk-label-container {text-align: center;}#sk-container-id-5 div.sk-container {/* jupyter's `normalize.less` sets `[hidden] { display: none; }` but bootstrap.min.css set `[hidden] { display: none !important; }` so we also need the `!important` here to be able to override the default hidden behavior on the sphinx rendered scikit-learn.org. See: https://github.com/scikit-learn/scikit-learn/issues/21755 */display: inline-block !important;position: relative;}#sk-container-id-5 div.sk-text-repr-fallback {display: none;}</style><div id=\"sk-container-id-5\" class=\"sk-top-container\"><div class=\"sk-text-repr-fallback\"><pre>Pipeline(steps=[(&#x27;model&#x27;, LinearRegression())])</pre><b>In a Jupyter environment, please rerun this cell to show the HTML representation or trust the notebook. <br />On GitHub, the HTML representation is unable to render, please try loading this page with nbviewer.org.</b></div><div class=\"sk-container\" hidden><div class=\"sk-item sk-dashed-wrapped\"><div class=\"sk-label-container\"><div class=\"sk-label sk-toggleable\"><input class=\"sk-toggleable__control sk-hidden--visually\" id=\"sk-estimator-id-7\" type=\"checkbox\" ><label for=\"sk-estimator-id-7\" class=\"sk-toggleable__label sk-toggleable__label-arrow\">Pipeline</label><div class=\"sk-toggleable__content\"><pre>Pipeline(steps=[(&#x27;model&#x27;, LinearRegression())])</pre></div></div></div><div class=\"sk-serial\"><div class=\"sk-item\"><div class=\"sk-estimator sk-toggleable\"><input class=\"sk-toggleable__control sk-hidden--visually\" id=\"sk-estimator-id-8\" type=\"checkbox\" ><label for=\"sk-estimator-id-8\" class=\"sk-toggleable__label sk-toggleable__label-arrow\">LinearRegression</label><div class=\"sk-toggleable__content\"><pre>LinearRegression()</pre></div></div></div></div></div></div></div>"
          },
          "metadata": {}
        }
      ],
      "execution_count": 33,
      "metadata": {
        "gather": {
          "logged": 1671841055234
        }
      },
      "id": "495649b4"
    },
    {
      "cell_type": "code",
      "source": [
        "pipeline_model.predict(X_test)"
      ],
      "outputs": [
        {
          "output_type": "execute_result",
          "execution_count": 34,
          "data": {
            "text/plain": "array([24.84303264, 28.24331711, 34.4505337 , 25.29971213, 32.09981075,\n       33.79268187, 40.47333476, 35.04828473, 40.47333476, 36.89489481,\n       23.6246313 , 38.11835714, 24.84303264, 24.21167565, 42.06180763,\n       35.90252503, 30.20871483, 40.48392591, 30.20871483, 30.20871483,\n       24.84303264, 35.94422557, 36.2784823 , 24.84303264, 23.36939651,\n       34.2751037 , 37.197936  , 32.84912834, 32.11507866, 26.70149115,\n       35.34257263, 36.3682537 , 24.84303264, 38.11835714, 40.47333476,\n       35.81418338, 35.04385508, 37.97395098, 43.05310041, 34.17629951,\n       43.71865778, 36.93280606, 37.32021288, 37.61534547, 36.3682537 ,\n       28.87368387, 35.94422557, 34.96167709, 34.17629951, 19.51700417,\n       36.3682537 , 14.69329161, 36.54883285, 36.89489481, 35.81418338,\n       40.48392591, 32.27137381, 32.09981075, 37.67774868, 24.2078474 ,\n       32.11507866, 37.197936  , 37.32021288, 34.73215607, 26.70149115,\n       37.61534547, 18.79076337, 36.54883285, 32.60776465, 35.04385508,\n       34.96167709, 33.79268187, 34.96167709, 40.48392591, 37.32021288,\n       32.11507866, 38.93877665, 35.04828473, 34.20842298, 37.61534547,\n       35.94422557, 36.89489481, 37.61582062, 45.23333525, 36.89489481,\n       43.97539786, 36.93280606, 38.11835714, 34.2751037 , 26.70149115,\n       34.20842298, 32.11507866, 32.09981075, 24.84303264, 34.17629951,\n       30.20871483, 25.29971213, 38.11835714, 36.54883285, 38.93877665,\n       28.87368387, 34.17629951, 37.74689106, 34.17629951, 35.90252503,\n       36.89489481, 34.17629951, 35.34257263, 37.61534547, 24.84303264,\n       37.197936  , 35.34257263, 34.2751037 , 32.27137381, 37.61582062,\n       35.34257263, 26.70149115, 32.27137381, 32.11507866, 36.93280606,\n       32.09981075, 35.90252503, 32.11507866, 28.87368387, 24.84303264,\n       32.27137381, 37.67774868, 37.61534547, 28.87368387, 32.27137381,\n       24.84303264, 37.61582062, 35.34257263, 37.61582062, 36.54883285,\n       34.73215607, 32.27137381, 34.4505337 , 30.20871483, 32.11507866,\n       38.11835714, 32.11507866, 35.04828473, 38.60273015, 32.27137381,\n       32.60776465, 26.70149115, 36.54883285, 23.36939651, 26.70149115,\n       36.3682537 , 24.2078474 , 36.54883285, 38.93877665, 39.88978713,\n       38.02144841, 36.93280606, 36.89489481, 32.27137381, 30.20871483,\n       34.4505337 , 34.96167709, 34.4505337 , 34.17629951, 33.79268187,\n       35.04828473, 33.79268187, 40.28809782, 37.97395098, 34.4505337 ,\n       37.32021288, 35.04828473, 40.314701  , 30.20871483, 33.79268187,\n       35.90252503, 31.54452838, 34.96167709, 37.32021288, 18.79076337,\n       38.93877665, 36.3682537 , 35.90252503, 35.90252503, 33.79268187,\n       26.70149115, 36.93280606, 38.93877665, 34.96167709, 34.17629951,\n       35.04828473, 19.51700417, 34.2751037 , 24.84303264, 24.84303264,\n       32.09981075, 35.81418338, 40.56427001, 23.0772458 , 34.20842298,\n       35.04828473, 32.60776465, 38.93877665, 31.54452838, 36.89489481,\n       36.3682537 , 34.73215607, 11.89225555, 37.97395098, 35.94422557,\n       37.197936  , 35.34257263, 25.12879446, 37.61582062, 32.27137381,\n       34.4505337 , 24.84303264, 34.17629951, 37.32021288, 30.20871483,\n       33.79268187, 36.89489481, 34.4505337 , 33.79268187, 34.4505337 ,\n       40.314701  , 16.07481545, 35.04828473, 38.11835714, 33.79268187,\n       34.20842298, 34.4505337 , 23.36939651, 41.31912017, 34.2751037 ,\n       32.60776465, 35.34257263, 38.93877665, 38.11835714, 44.28453079,\n       32.27137381, 42.06180763, 30.20871483, 34.96167709, 35.04385508,\n       12.75144289, 34.20842298, 35.94422557, 32.11507866, 32.11507866,\n       24.84303264, 32.11507866, 32.27137381, 34.2751037 , 38.6590972 ,\n       41.66062427, 34.98457364, 16.07481545, 34.20842298, 36.93280606,\n       34.98457364, 45.23333525, 40.98715492, 39.88978713, 34.4505337 ,\n       36.3682537 , 35.34257263, 28.87368387, 34.96167709, 36.89489481,\n       34.98457364, 31.54452838, 35.34257263, 29.18214796, 36.93280606,\n       34.4505337 , 40.56427001, 34.4505337 , 32.11507866, 12.75144289,\n       39.88978713, 12.75144289, 35.04828473, 41.9507007 , 34.17629951,\n       38.60273015, 38.02144841, 35.34257263, 38.11835714, 29.18214796,\n       37.61582062, 37.61582062, 36.2784823 , 26.70149115, 34.4505337 ,\n       38.93877665, 24.84303264, 30.20871483, 43.97539786, 36.3682537 ,\n       26.70149115, 33.79268187, 34.17629951, 43.71865778, 28.87368387,\n       36.3682537 , 37.32021288, 16.07481545, 35.94422557, 34.4505337 ,\n       37.74689106, 33.79268187, 30.20871483, 37.67774868, 35.34257263,\n       40.48392591, 32.11507866, 34.4505337 , 35.04828473, 34.17629951,\n       37.32021288, 37.97395098, 40.28809782, 37.61582062, 37.67774868,\n       35.94422557, 35.04385508, 14.69329161, 37.97395098, 24.84303264,\n       35.34257263, 26.70149115, 37.61582062, 32.11507866, 32.11507866,\n       43.05310041, 40.56427001, 32.11507866, 32.09981075, 34.98457364,\n       44.28453079, 40.28809782, 35.04385508, 26.70149115, 36.3682537 ,\n       37.74689106, 20.26901175, 34.20842298, 33.79268187, 36.2784823 ,\n       34.2751037 , 37.32021288, 35.04385508, 35.90252503, 35.94422557,\n       30.20871483, 40.56427001, 32.11507866, 34.4505337 , 36.89489481,\n       35.04828473, 39.88978713, 33.79268187, 24.84303264, 37.32021288,\n       38.11835714, 38.11835714, 35.81418338, 36.93280606, 36.54883285,\n       43.05310041, 35.04385508, 40.47333476, 34.17629951, 24.2078474 ,\n       35.90252503, 38.93877665, 36.3682537 , 23.00259601, 36.54883285,\n       35.90252503, 37.197936  , 24.84303264, 32.09981075, 28.87368387,\n       24.84303264, 35.94422557, 36.93280606, 32.27137381, 37.32021288,\n       30.20871483, 38.93877665, 43.97539786, 34.96167709, 45.23333525,\n       24.84303264, 36.89489481, 37.67774868, 32.09981075,  7.60677755,\n        7.60677755, 38.93877665, 36.93280606, 34.96167709, 35.81418338,\n       34.4505337 , 37.197936  , 37.61534547, 34.4505337 , 40.48392591,\n       35.81418338, 41.9507007 , 32.11507866, 32.11507866, 11.89225555,\n       34.4505337 , 38.11835714, 38.85622918, 36.3682537 , 43.71865778,\n       36.54883285, 34.2751037 , 32.09981075, 24.84303264, 36.54883285,\n       37.32021288, 33.79268187, 35.04828473, 35.04828473, 35.04828473,\n       34.2751037 , 38.85622918, 35.34257263, 41.9507007 , 26.70149115,\n       37.197936  , 28.24331711, 28.87368387, 30.20871483, 30.20871483,\n       43.71865778, 12.75144289, 36.54883285, 38.11835714, 36.54883285,\n       32.09981075, 32.27137381, 28.87368387, 41.9507007 , 32.11507866,\n       32.09981075, 35.04828473, 40.98715492, 32.27137381, 37.32021288,\n       35.34257263, 37.197936  , 35.34257263, 42.44762402, 28.87368387,\n       35.94422557, 32.27137381, 34.17629951, 40.314701  , 32.11507866,\n       42.06180763, 35.34257263, 24.84303264, 24.84303264, 34.4505337 ,\n       33.79268187, 35.81418338, 34.17629951, 35.04385508, 32.11507866,\n       34.2751037 , 35.34257263, 37.32021288, 34.20842298, 26.70149115,\n       32.27137381, 35.04385508, 23.36939651, 37.61534547, 32.09981075,\n       11.89225555, 23.36939651, 24.84303264, 35.04828473, 32.09981075,\n       35.04385508, 34.4505337 , 32.11507866, 34.20842298, 35.04828473,\n       35.90252503, 26.70149115, 40.28809782, 39.88978713, 14.69329161])"
          },
          "metadata": {}
        },
        {
          "output_type": "stream",
          "name": "stderr",
          "text": "Bad pipe message: %s [b'nY\\xba\\x91E\\xf7\\xbe\\xca\\x08O\\xa0\\x89\\x97W5\\x7f\\xcb\\xd5 !\\x98\\x14\\x85Nn\\xd5\\xc47\\x1e|Z\\xcb~\\xcd\\x16\\xf4\\x19\\xa1\\xf2\\xec\\x17\\xdf\\xb0\\x06X\\xf8\\xd9\\xab\\r\\xd9\"\\x00\\x08\\x13\\x02\\x13\\x03\\x13\\x01\\x00\\xff\\x01\\x00\\x00\\x8f\\x00\\x00\\x00\\x0e\\x00\\x0c\\x00\\x00\\t127.0.0.1\\x00\\x0b\\x00\\x04\\x03\\x00\\x01\\x02\\x00\\n\\x00\\x0c\\x00\\n\\x00\\x1d\\x00\\x17\\x00\\x1e\\x00\\x19\\x00\\x18\\x00#\\x00\\x00\\x00\\x16\\x00\\x00\\x00\\x17\\x00\\x00\\x00\\r\\x00\\x1e\\x00\\x1c\\x04\\x03\\x05\\x03\\x06\\x03\\x08\\x07\\x08\\x08\\x08\\t\\x08\\n\\x08\\x0b\\x08\\x04\\x08\\x05\\x08\\x06\\x04\\x01\\x05\\x01\\x06\\x01\\x00+\\x00\\x03\\x02\\x03\\x04\\x00-\\x00\\x02\\x01\\x01\\x003\\x00&\\x00']\nBad pipe message: %s [b'\\x1d\\x00 \\xaa\\xdf\\xd8\\xea`\\x93\\xbb\\xce\\xf5\\xfaLO\"\\xa9R\\xa1z\\xad\\xdd\\xcfm\\xb8\\xbe\\x1bu\\xc1\\x81\\x07\\xd7\\xe6S\\x13']\nBad pipe message: %s [b'7\\x14\\x9f\\xc4\\x99-\\xac\\x98\\xe4\\x00G\\xd0\\xa2\\x0e]\\xa6\\xc1\\xbc [b\\xbc\\x07y\\x16\\xe8\\x11\\xbd\\xe52\\x12\\xf2>\\xbf}?h\\xf3\\xf5\\xd9]\\xbbJtk\\xb7{\\xa22pR\\x00\\x08\\x13\\x02\\x13\\x03\\x13\\x01\\x00\\xff\\x01\\x00\\x00\\x8f\\x00\\x00\\x00\\x0e\\x00\\x0c\\x00\\x00\\t127.0.0.1\\x00\\x0b\\x00\\x04\\x03\\x00\\x01\\x02\\x00\\n\\x00\\x0c\\x00\\n\\x00\\x1d\\x00\\x17\\x00\\x1e\\x00\\x19\\x00\\x18\\x00#\\x00\\x00\\x00\\x16\\x00\\x00\\x00\\x17\\x00\\x00\\x00\\r\\x00\\x1e\\x00\\x1c\\x04\\x03\\x05\\x03\\x06\\x03\\x08\\x07\\x08\\x08\\x08\\t\\x08\\n\\x08\\x0b\\x08\\x04\\x08\\x05\\x08\\x06\\x04\\x01\\x05\\x01\\x06\\x01\\x00+\\x00\\x03\\x02\\x03\\x04\\x00-\\x00\\x02\\x01\\x01\\x003\\x00&\\x00', b'\\x1d\\x00 k\\xb8,@;\\xbb/)!^\\xf6\\xd3\\x88\\xa6\\x14\\x98\\x8a*\\xeb\\xff4S\\x80\\x7f\\xe5\\t&o\\x05u\\xb6x']\nBad pipe message: %s [b\"\\xe3\\xdf\\x08\\x1fn\\x0f\\xb6\\xde\\x89\\x8f\\x85G\\x946\\x1b\\x1eQ\\xcb\\x00\\x00|\\xc0,\\xc00\\x00\\xa3\\x00\\x9f\\xcc\\xa9\\xcc\\xa8\\xcc\\xaa\\xc0\\xaf\\xc0\\xad\\xc0\\xa3\\xc0\\x9f\\xc0]\\xc0a\\xc0W\\xc0S\\xc0+\\xc0/\\x00\\xa2\\x00\\x9e\\xc0\\xae\\xc0\\xac\\xc0\\xa2\\xc0\\x9e\\xc0\\\\\\xc0`\\xc0V\\xc0R\\xc0$\\xc0(\\x00k\\x00j\\xc0#\\xc0'\\x00g\\x00@\\xc0\\n\\xc0\\x14\\x009\\x008\\xc0\\t\\xc0\\x13\\x003\\x002\\x00\\x9d\\xc0\\xa1\\xc0\\x9d\\xc0Q\\x00\\x9c\\xc0\\xa0\\xc0\\x9c\\xc0P\\x00=\\x00<\\x005\\x00/\\x00\\x9a\\x00\\x99\\xc0\\x07\\xc0\\x11\\x00\\x96\\x00\\x05\\x00\\xff\\x01\\x00\\x00j\\x00\\x00\\x00\\x0e\\x00\\x0c\\x00\\x00\\t127.0.0.1\\x00\\x0b\\x00\\x04\\x03\\x00\\x01\\x02\\x00\\n\\x00\\x0c\\x00\\n\\x00\\x1d\\x00\\x17\\x00\\x1e\\x00\\x19\\x00\\x18\\x00#\\x00\\x00\\x00\\x16\\x00\\x00\\x00\\x17\\x00\\x00\\x00\\r\\x000\\x00.\\x04\\x03\\x05\\x03\\x06\\x03\\x08\\x07\\x08\\x08\\x08\\t\\x08\\n\\x08\\x0b\\x08\\x04\\x08\\x05\\x08\\x06\\x04\\x01\\x05\\x01\\x06\\x01\\x03\\x03\\x02\\x03\\x03\\x01\\x02\\x01\\x03\\x02\"]\nBad pipe message: %s [b'\\x04']\nBad pipe message: %s [b'u\\x14\\x1e\\xf1;\\xc4=\\xe1\\xdc\\r\\x8b,,C\\x9d\\x80\\xda=\\x00\\x00\\xa6\\xc0,\\xc00\\x00\\xa3\\x00\\x9f\\xcc\\xa9\\xcc\\xa8\\xcc\\xaa\\xc0\\xaf\\xc0\\xad\\xc0\\xa3\\xc0\\x9f\\xc0]\\xc0a\\xc0W\\xc0S\\xc0+\\xc0/\\x00\\xa2\\x00\\x9e\\xc0\\xae\\xc0\\xac\\xc0\\xa2\\xc0\\x9e\\xc0\\\\\\xc0`\\xc0V\\xc0R\\xc0$', b\"\\x00k\\x00j\\xc0s\\xc0w\\x00\\xc4\\x00\\xc3\\xc0#\\xc0'\\x00g\\x00@\\xc0r\\xc0v\\x00\\xbe\\x00\\xbd\\xc0\\n\\xc0\\x14\\x009\\x008\\x00\\x88\\x00\\x87\\xc0\\t\\xc0\\x13\\x003\\x002\\x00\\x9a\\x00\\x99\\x00E\\x00D\\xc0\\x07\\xc0\\x11\\xc0\\x08\\xc0\\x12\\x00\\x16\\x00\\x13\\x00\\x9d\\xc0\\xa1\\xc0\\x9d\\xc0Q\\x00\\x9c\\xc0\\xa0\\xc0\\x9c\\xc0P\\x00=\\x00\\xc0\\x00<\\x00\\xba\\x005\\x00\\x84\\x00/\\x00\\x96\\x00A\\x00\\x05\\x00\\n\\x00\\xff\\x01\\x00\\x00j\\x00\\x00\\x00\\x0e\\x00\\x0c\\x00\\x00\\t127.0.0.1\\x00\\x0b\\x00\\x04\\x03\\x00\\x01\\x02\\x00\\n\\x00\\x0c\\x00\\n\\x00\\x1d\\x00\\x17\\x00\\x1e\\x00\\x19\\x00\\x18\\x00#\\x00\\x00\\x00\\x16\\x00\\x00\\x00\\x17\\x00\\x00\\x00\\r\\x000\\x00.\\x04\\x03\\x05\\x03\\x06\\x03\\x08\\x07\\x08\\x08\\x08\\t\\x08\\n\\x08\\x0b\\x08\\x04\\x08\"]\nBad pipe message: %s [b'\\x06\\x04\\x01\\x05']\nBad pipe message: %s [b'']\nBad pipe message: %s [b'', b'\\x03\\x03']\nBad pipe message: %s [b'']\nBad pipe message: %s [b'\\x86X\\xb4\\xb1\\xca\\xe4z\\xa8\\rJ\\xbf\\xe4U|/\\x91@;\\x00\\x00>\\xc0\\x14\\xc0\\n\\x009\\x008\\x007\\x006\\xc0\\x0f\\xc0\\x05\\x005\\xc0\\x13\\xc0\\t\\x003\\x002\\x001\\x000\\xc0\\x0e\\xc0\\x04\\x00/\\x00\\x9a\\x00\\x99\\x00\\x98\\x00\\x97\\x00\\x96\\x00\\x07\\xc0\\x11\\xc0\\x07\\xc0\\x0c\\xc0\\x02\\x00\\x05\\x00\\x04\\x00\\xff\\x02\\x01\\x00\\x00C\\x00\\x00\\x00\\x0e\\x00\\x0c\\x00\\x00\\t127', b'.0.1\\x00\\x0b\\x00\\x04\\x03\\x00\\x01\\x02\\x00\\n\\x00\\x1c\\x00\\x1a\\x00\\x17\\x00\\x19\\x00\\x1c\\x00\\x1b\\x00\\x18\\x00\\x1a\\x00\\x16\\x00\\x0e\\x00\\r\\x00\\x0b\\x00\\x0c\\x00\\t\\x00\\n\\x00']\nBad pipe message: %s [b'', b'\\x02']\nBad pipe message: %s [b'\\x05\\x02\\x06']\nBad pipe message: %s [b'PJ\\xad\\xf9\\xad\\xf4\\xac\\xef\\x9b\\x9d^*>3\\xbd\\xd7\\xc0(\\x00\\x00\\xa2\\xc0\\x14\\xc0\\n\\x009\\x008\\x007\\x006\\x00']\nBad pipe message: %s [b'\\x87\\x00\\x86\\x00\\x85\\xc0\\x19\\x00:\\x00\\x89\\xc0\\x0f\\xc0\\x05\\x005\\x00\\x84\\xc0\\x13\\xc0\\t\\x003\\x002\\x001\\x000\\x00\\x9a\\x00\\x99\\x00\\x98\\x00\\x97\\x00E\\x00D\\x00C\\x00B\\xc0\\x18\\x004\\x00\\x9b\\x00F\\xc0\\x0e\\xc0\\x04\\x00/\\x00\\x96\\x00A\\x00\\x07\\xc0\\x11\\xc0\\x07\\xc0\\x16\\x00\\x18\\xc0\\x0c\\xc0\\x02\\x00\\x05\\x00\\x04\\xc0\\x12\\xc0\\x08\\x00\\x16\\x00\\x13\\x00\\x10\\x00\\r\\xc0\\x17\\x00\\x1b\\xc0\\r\\xc0\\x03\\x00\\n\\x00\\x15\\x00\\x12\\x00\\x0f\\x00\\x0c\\x00\\x1a\\x00\\t\\x00\\x14\\x00\\x11\\x00\\x19\\x00\\x08\\x00\\x06\\x00\\x17\\x00\\x03\\xc0\\x10\\xc0\\x06']\nBad pipe message: %s [b'\\xd8\\xcbd\\x9d\\xa36C\\x0c\\xa3b\\xb7\\xf1\\xbaM\\x05\\xeciZ\\x00\\x00>\\xc0\\x14\\xc0\\n\\x009\\x008\\x007\\x006\\xc0\\x0f\\xc0\\x05\\x005\\xc0\\x13\\xc0\\t\\x003\\x002\\x001\\x000\\xc0\\x0e\\xc0\\x04\\x00/\\x00\\x9a\\x00\\x99\\x00\\x98\\x00\\x97\\x00\\x96\\x00\\x07\\xc0\\x11\\xc0\\x07\\xc0\\x0c\\xc0\\x02\\x00\\x05\\x00\\x04\\x00\\xff\\x02\\x01\\x00\\x00C\\x00\\x00\\x00\\x0e\\x00\\x0c']\nBad pipe message: %s [b'U\\xac\\xd4\\xd9\\xb5\\xa6]o\\xa1h#Y\\xce}\\x0e\\x87\\x1f\\x19\\x00\\x00\\xa2\\xc0\\x14\\xc0\\n\\x009\\x008\\x007\\x006\\x00\\x88\\x00\\x87\\x00\\x86\\x00\\x85\\xc0\\x19\\x00:\\x00\\x89\\xc0\\x0f\\xc0\\x05\\x005\\x00\\x84\\xc0\\x13\\xc0\\t\\x003\\x002\\x001\\x000\\x00\\x9a\\x00\\x99\\x00\\x98\\x00\\x97\\x00E\\x00D\\x00C\\x00B\\xc0\\x18\\x004\\x00\\x9b\\x00F\\xc0\\x0e\\xc0\\x04\\x00/\\x00\\x96\\x00A\\x00\\x07\\xc0', b'\\x07\\xc0\\x16\\x00\\x18\\xc0\\x0c\\xc0\\x02\\x00\\x05\\x00\\x04\\xc0\\x12\\xc0']\nBad pipe message: %s [b'\\x16\\x00\\x13\\x00\\x10\\x00\\r']\nBad pipe message: %s [b'\\x86\\xde\\x7f/5\\xb9O\\t\\x1e\\x1b\\x16\\xa0Z\\xe08Cz\\xa8\\x00\\x00\\x86\\xc00\\xc0,\\xc0(\\xc0$\\xc0\\x14\\xc0\\n\\x00\\xa5\\x00\\xa3\\x00\\xa1\\x00\\x9f\\x00k\\x00j\\x00i\\x00h']\n"
        }
      ],
      "execution_count": 34,
      "metadata": {
        "gather": {
          "logged": 1671841056930
        }
      },
      "id": "85c5e85a"
    },
    {
      "cell_type": "code",
      "source": [],
      "outputs": [],
      "execution_count": null,
      "metadata": {},
      "id": "59a7abfd"
    },
    {
      "cell_type": "code",
      "source": [],
      "outputs": [],
      "execution_count": null,
      "metadata": {
        "jupyter": {
          "source_hidden": false,
          "outputs_hidden": false
        },
        "nteract": {
          "transient": {
            "deleting": false
          }
        }
      },
      "id": "638640b1-1812-4e5c-a97c-f715e6a12d0a"
    }
  ],
  "metadata": {
    "kernelspec": {
      "name": "python310-sdkv2",
      "language": "python",
      "display_name": "Python 3.10 - SDK V2"
    },
    "language_info": {
      "name": "python",
      "version": "3.10.6",
      "mimetype": "text/x-python",
      "codemirror_mode": {
        "name": "ipython",
        "version": 3
      },
      "pygments_lexer": "ipython3",
      "nbconvert_exporter": "python",
      "file_extension": ".py"
    },
    "kernel_info": {
      "name": "python310-sdkv2"
    },
    "nteract": {
      "version": "nteract-front-end@1.0.0"
    },
    "microsoft": {
      "host": {
        "AzureML": {
          "notebookHasBeenCompleted": true
        }
      }
    }
  },
  "nbformat": 4,
  "nbformat_minor": 5
}